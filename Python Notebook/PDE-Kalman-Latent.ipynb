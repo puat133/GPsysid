{
 "cells": [
  {
   "cell_type": "markdown",
   "metadata": {},
   "source": [
    "# Parameter Estimation and Latent Force based Filtering"
   ]
  },
  {
   "cell_type": "markdown",
   "metadata": {},
   "source": [
    "### Load necessary libraries"
   ]
  },
  {
   "cell_type": "code",
   "execution_count": 6,
   "metadata": {},
   "outputs": [],
   "source": [
    "import numpy as np\n",
    "import matplotlib.pyplot as plt\n",
    "import torch\n",
    "import sys\n",
    "import os\n",
    "import pandas as pd\n",
    "import datetime\n",
    "import torch.nn as nn\n",
    "from torch.utils.data import Dataset, DataLoader\n",
    "\n",
    "#import from parent folder\n",
    "import os,sys,inspect\n",
    "currentdir = os.path.dirname(os.path.abspath(inspect.getfile(inspect.currentframe())))\n",
    "parentdir = os.path.dirname(currentdir)\n",
    "sys.path.insert(0,parentdir) \n",
    "import PDE\n",
    "\n",
    "Dtype = torch.float\n",
    "\n",
    "if torch.cuda.is_available():\n",
    "    device = torch.device(\"cuda\")\n",
    "else:\n",
    "    device = torch.device(\"cpu\")"
   ]
  },
  {
   "cell_type": "markdown",
   "metadata": {},
   "source": [
    "Define discrete dynamics that will be used for system identification."
   ]
  },
  {
   "cell_type": "code",
   "execution_count": 8,
   "metadata": {},
   "outputs": [
    {
     "output_type": "execute_result",
     "data": {
      "text/plain": "device(type='cpu')"
     },
     "metadata": {},
     "execution_count": 8
    }
   ],
   "source": [
    "device"
   ]
  },
  {
   "cell_type": "markdown",
   "metadata": {},
   "source": [
    "## Define several variables\n",
    "\n",
    "\n"
   ]
  },
  {
   "cell_type": "code",
   "execution_count": 16,
   "metadata": {},
   "outputs": [],
   "source": [
    "temperature_columns = np.array(\n",
    "    [['TI8585','TI8553','TI8554','TI8555','TI8556','TI8557','TI8558','TI8559', 'TIZ8578A'],\n",
    "     ['TI8585','TI8560','TI8561','TI8562','TI8563','TI8564','TI8565','TI8566', 'TIZ8578A'],\n",
    "     ['TI8585','TI8567','TI8568','TI8569','TI8570','TI8571','TI8572','TI8573', 'TIZ8578A']],dtype=object)\n",
    "\n",
    "tc_heights =np.array([[7600,6550,5500,4450,3400,2350,1300],\n",
    "             [7250,6250,5150,4100,3050,2000,950],\n",
    "             [6900,5850,4800,3750,2700,1650,600]])\n",
    "\n",
    "tc_total_height=8000 #assumption\n",
    "normalized_height = (tc_total_height-tc_heights)/tc_total_height\n",
    "\n",
    "sampling_period = 1e-3# again assumption\n",
    "\n",
    "nbases = 10\n",
    "L = 1.\n",
    "Derivative = PDE.derivative(nbases,L)\n",
    "Laplacian = PDE.laplacian(nbases,L)\n",
    "O = torch.zeros_like(Derivative)\n",
    "I = torch.eye(Derivative.shape[0])\n",
    "\n",
    "#construct Continuous system matrices firsst\n"
   ]
  },
  {
   "cell_type": "code",
   "execution_count": 15,
   "metadata": {},
   "outputs": [
    {
     "output_type": "execute_result",
     "data": {
      "text/plain": "array([[0.05   , 0.18125, 0.3125 , 0.44375, 0.575  , 0.70625, 0.8375 ],\n       [0.09375, 0.21875, 0.35625, 0.4875 , 0.61875, 0.75   , 0.88125],\n       [0.1375 , 0.26875, 0.4    , 0.53125, 0.6625 , 0.79375, 0.925  ]])"
     },
     "metadata": {},
     "execution_count": 15
    }
   ],
   "source": [
    "normalized_height"
   ]
  },
  {
   "cell_type": "code",
   "execution_count": null,
   "metadata": {},
   "outputs": [],
   "source": []
  }
 ],
 "metadata": {
  "kernelspec": {
   "display_name": "Python 3",
   "language": "python",
   "name": "python3"
  },
  "language_info": {
   "codemirror_mode": {
    "name": "ipython",
    "version": 3
   },
   "file_extension": ".py",
   "mimetype": "text/x-python",
   "name": "python",
   "nbconvert_exporter": "python",
   "pygments_lexer": "ipython3",
   "version": "3.7.7-final"
  }
 },
 "nbformat": 4,
 "nbformat_minor": 4
}