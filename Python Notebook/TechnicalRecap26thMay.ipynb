{
 "cells": [
  {
   "cell_type": "markdown",
   "metadata": {},
   "source": [
    "# Technical recap 26th May2020"
   ]
  },
  {
   "cell_type": "markdown",
   "metadata": {},
   "source": [
    "## Our previous approaches for the GP-system identification model for reactor dynamics. \n",
    "The core of the GP-bases system idenfitication is the assumption that the dynamics is following the state space model as below\n",
    "$$\n",
    "x_{t+1} = f(x_t,u_t) + v_t,\\\\\n",
    "y_t = g(x_t,u_t) + w_t\n",
    "$$\n",
    "The GP enters the *SSM* by assuming that\n",
    "$$\n",
    "f(x_t,u_t) \\sim {GP} (m_f(x_t,u_t),k_f(x_t,u_t,x_t',u_t')),\\\\\n",
    "g(x_t,u_t) \\sim {GP} (m_g(x_t,u_t),k_g(x_t,u_t,x_t',u_t')),\\\\\n",
    "x_0 \\sim p(x_0), \\\\\n",
    "f_t := f(x_{t-1}),\\\\\n",
    "x_t|f(x_{t-1}) \\sim  \\mathcal{N}(0,Q),\\\\\n",
    "g_t := g(x_t),\\\\\n",
    "y_t|g_t \\sim \\mathcal{N}(0,R).\n",
    "$$\n",
    "\n",
    "### One idea, is to lump the dynamics of the observation as a state as given in Frigola, 2015 (this [reference](https://www.repository.cam.ac.uk/handle/1810/299413)).\n",
    "- That is now, we only have GP for the transition function $f$, where the new latent state $z$ are the original latent states and the observations\n",
    "- The observations are some of the last elements in $z_t$\n",
    "$$\n",
    "f(z_t,u_t) \\sim {GP} (m_f(z_t,u_t),k_f(z_t,u_t,z_t',u_t')),\\\\\n",
    "z_0 \\sim p(x_0), \\\\\n",
    "f_t := f(z_{t-1}),\\\\\n",
    "z_t|f(z_{t-1}) \\sim  \\mathcal{N}(0,Q),\\\\\n",
    "$$\n",
    "\n",
    "- Now, we can use $m_f$ as a linear dynamics with the structure\n",
    " $$\n",
    " m_f(z_t,u_t) = A_0 z_t + B_0 u_t.\n",
    " $$\n",
    " - The matrices $A$ and $B$ are obtained from linear system identification procedure\n",
    " - Using finite dimensional approximation of the GP of $f$, we write\n",
    " $$\n",
    " f \\sim A_0 z_t + B_0 u_t + A \\Phi(z_t, u_t)\n",
    " $$\n",
    " - Here, $\\Phi$ is a basis function, with the dimension is $n_z \\times n_b^{n_z+n_u}$.  \n",
    " - The matrix $A$ to be sampled by some MCMC, also the covariance matrix $Q$.\n",
    " \n",
    "## Result\n",
    "\n",
    "![\"Example of Delta T\"](image/delta_T_0.png)\n"
   ]
  },
  {
   "cell_type": "markdown",
   "metadata": {},
   "source": [
    "- After several trial and errors with the parameter of the simulations, the simulation result is still very bad.\n",
    "- One of the possible problem is that lumping the observation into the latent state.\n",
    "- Other possible bottle neck is that the basis function $\\Phi$ dimension grows exponentially with the number of state $n_z$. \n",
    "- Selecting a higher state than $4$ is not feasible using basis number $5$.\n",
    "- While at the same time the dynamic dimensions it self probably more than that.\n",
    "- Also incorporation of the catalyst activity level in the model (ODE, PDE) is missing. (Comments from Feedback) "
   ]
  },
  {
   "cell_type": "markdown",
   "metadata": {},
   "source": [
    "## Our second approach:   The PDE model (Price and Butt, 1977)\n",
    "\n",
    "\\begin{equation}\n",
    "\\begin{split}\n",
    "  \\frac{\\partial s}{\\partial t}\n",
    "  &= D_s \\, \\frac{\\partial^2 s}{\\partial z^2}\n",
    "  - C_s \\, \\frac{\\partial a}{\\partial z}\n",
    "  - K_1 \\, r_s(s,T), c \\\\\n",
    "  \\frac{\\partial a}{\\partial t}\n",
    "  &= D_a \\, \\frac{\\partial^2 a}{\\partial z^2}\n",
    "  - C_a \\, \\frac{\\partial a}{\\partial z}\n",
    "  - K_2 \\, r_a(a,c,T), c \\\\\n",
    "  \\frac{\\partial T}{\\partial t}\n",
    "  &= D_T \\, \\frac{\\partial^2 T}{\\partial z^2}\n",
    "  - C_T \\, \\frac{\\partial T}{\\partial z}\n",
    "  + K_3 \\, r_a(a,c,T), c\\\\\n",
    "  \\frac{\\partial c}{\\partial t}\n",
    "  &= K_5 \\, r_s(s,T) \\, c,\n",
    "\\end{split} \\label{eqs:PDE_butt_price}\n",
    "\\end{equation}\n",
    "\n",
    "where $s = s(t,z)$, $a = a(t,z)$, $T = T(t,z)$, and $c = c(t,z)$. Also, note that $C_s$ = $C_a$ and $C_T = constant* C_s$, $K_1$, $K_2$ and $K_3$ are correlated. The boundary and initial conditions for the partial differential equations above are:\n",
    "\n",
    "\\begin{align}\n",
    "    T(z=0) =& T_0,&\\; \\left.\\dfrac{\\partial T}{\\partial z}\\right|_{z=L} =& 0.\\\\\n",
    "    a(z=0) =& a_0,&\\; \\left.\\dfrac{\\partial a}{\\partial z}\\right|_{z=L} =& 0,\\\\\n",
    "    s(z=0) =& s_0,&\\; \\left.\\dfrac{\\partial s}{\\partial z}\\right|_{z=L} =& 0,\\\\\n",
    "    c(t=0) =& 1. & &.\n",
    "\\end{align}\n",
    "\n",
    "Further we have\n",
    "\n",
    "\\begin{equation}\n",
    "  r_a(a,c,T) = -d_1 \\, \\exp(-d_2 / T) \\, a \\, c\n",
    "\\end{equation}"
   ]
  },
  {
   "cell_type": "markdown",
   "metadata": {},
   "source": [
    "After simplification we arrive at\n",
    "\n",
    "\\begin{align}\n",
    "\\hat{m}^-(t,\\omega_z) =& F(\\theta) \\hat{m}(t-1,\\omega_z),\\\\\n",
    "P^-(t,\\theta) =& F(\\theta) P(t,\\theta) F(\\theta)^\\top + G(\\theta) G(\\theta)^\\top,\\\\\n",
    "\\tilde{y}(t) =& y(t) -  H \\hat{m}^-(t,\\omega_z),\\\\\n",
    "S(t,\\theta) =& H P^-(t,\\theta) H^\\top + R(\\theta),\\\\\n",
    "K =& P^-(t,\\theta)H^\\top S(t,\\theta)^{-1},\\\\\n",
    "\\hat{m}(t,\\omega_z) =& \\hat{m}^-(t,\\omega_z) + \\tilde{y}(t),\\\\\n",
    "P(t,\\theta) =& P^-(t,\\theta) - P^-(t,\\theta)S(t,\\theta)^{-1}P^-(t,\\theta).\n",
    "\\end{align}\n",
    "\n",
    "Now the problem has become a parameter estimation problem."
   ]
  },
  {
   "cell_type": "markdown",
   "metadata": {},
   "source": [
    "## Next step\n",
    "\n",
    "#### 1. We are implementing the parameter estimation part\n",
    "#### 2. We also have to evaluate this approach in more details\n",
    " "
   ]
  },
  {
   "cell_type": "markdown",
   "metadata": {},
   "source": [
    "### Reference\n",
    "1. Frigola, R. (2015). Bayesian Time Series Learning with Gaussian Processes (Doctoral thesis). https://doi.org/10.17863/CAM.46480\n",
    "2. Thomas H. Price, John B. Butt, Catalyst poisoning and fixed bed reactor dynamics—II: Adiabatic reactors, Chemical Engineering Science, Volume 32, Issue 4, 1977, Pages 393-412, ISSN 0009-2509,https://doi.org/10.1016/0009-2509(77)85006-9."
   ]
  }
 ],
 "metadata": {
  "kernelspec": {
   "display_name": "Python 3",
   "language": "python",
   "name": "python3"
  },
  "language_info": {
   "codemirror_mode": {
    "name": "ipython",
    "version": 3
   },
   "file_extension": ".py",
   "mimetype": "text/x-python",
   "name": "python",
   "nbconvert_exporter": "python",
   "pygments_lexer": "ipython3",
   "version": "3.8.3"
  }
 },
 "nbformat": 4,
 "nbformat_minor": 4
}
