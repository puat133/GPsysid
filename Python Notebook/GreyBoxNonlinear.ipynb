{
 "cells": [
  {
   "cell_type": "markdown",
   "metadata": {},
   "source": [
    "# Nonlinear Greybox System Identification \n",
    "\n",
    "In this notebook we attempt to do greybox type of nonlinear system identification. The starting point is the dynamic given by Thomas Price and John Butt in *Catalyst Poisoning and Fixed Bed Reactor Dynamic II: Adiabatic Reactors*. \n",
    "The starting assumptions are the following:\n",
    "1. The input to the dynamic is the inlet temperature, the aromatic flow rate, the sulfur flow rate.\n",
    "2. Diffusion dynamic on planar axis is neglected.\n",
    "3. Partial differentiation with respect to horizontal axis is approximated by its backward numerical differentiation,\n",
    "   i.e., \n",
    "   $$\\left. \\dfrac{\\partial T}{\\partial z}\\right|_{z=z_i} \\approx \\frac{1}{\\Delta z} \\left[T(z_i) - T(z_{i-1})\\right],\\\\\n",
    "     \\left.\\dfrac{\\partial^2 T}{\\partial^2 z}\\right|_{z=z_i} \\approx \\frac{1}{\\Delta z} \\left[\\left. \\dfrac{\\partial T}{\\partial z}\\right|_{z=z_i} - \\left. \\dfrac{\\partial T}{\\partial z}\\right|_{z=z_{i-1}}\\right],\\\\\n",
    "     \\approx \\frac{1}{(\\Delta z)^2}\\left[T(z_i) - 2T(z_{i-1}) + T(z_{i-2})\\right]\\\\\n",
    "   $$\n",
    "\n",
    "The pde of the catalyst dynamic is given by:\n",
    "$$\n",
    "\\dfrac{d s_i}{dt} = K_0 \\dfrac{\\partial^2 s_i}{\\partial^2 z} -K_1 \\dfrac{\\partial s_i}{\\partial z}  - K_2 r_s(s_i,T_i) c_i,\\\\\n",
    "\\dfrac{d a_i}{dt} = K_3 \\dfrac{\\partial^2 a_i}{\\partial^2 z} -K_1 \\dfrac{\\partial a_i}{\\partial z} - K_2 r_a(a_i,T_i,c_i) c_i,\\\\\n",
    "\\dfrac{d T_i}{dt} = K_4 \\dfrac{\\partial^2 T_i}{\\partial^2 z} -K_5 \\dfrac{\\partial T_i}{\\partial z} + K_6 r_a(a_i,T_i,c_i) c_i,\\\\\n",
    "\\dfrac{d c_i}{dt} = K_7 r_s(s_i,T_i) c_i,\n",
    "$$\n",
    "   \n",
    "\n",
    "\n",
    "Let the reactor is partitioned into $N$ layers, where for each, the temperature corresponds to that layer is measured. The state each layer is given by (all is normalized):\n",
    "1. $s_i$ Sulfur concentration.\n",
    "2. $a_i$ Aromatic concentration.\n",
    "3. $T_i$ Temperature.\n",
    "4. $c_i$ Catalyst activity.\n",
    "\n",
    "where here $i = 1, \\cdots, N$.\n",
    "\n",
    "The inputs to the reactor are given by\n",
    "1. $s_0$ Sulfur concentration at inlet.\n",
    "2. $a_0$ Aromatic concentration at inlet.\n",
    "3. $T_0$ Temperature inlet.\n",
    "\n",
    "For each $i = 1, \\cdots, N$ the dyanmics are expressed as follows:\n",
    "$$\n",
    "\\dfrac{d s_i}{dt} = K_0 \\dfrac{1}{(\\Delta z)^2} \\left[s_i(t) -2 s_{i-1}(t) + s_{i-2}(t)\\right] -K_1 \\dfrac{1}{\\Delta z} \\left[s_i(t) - s_{i-1}(t)\\right]  - K_2 r_s(s_i,T_i) c_i,\\\\\n",
    "\\dfrac{d a_i}{dt} = K_3 \\dfrac{1}{(\\Delta z)^2} \\left[a_i(t) -2 a_{i-1}(t) + a_{i-2}(t)\\right] -K_1 \\dfrac{1}{\\Delta z} \\left[a_i(t) - a_{i-1}(t)\\right] - K_2 r_a(a_i,T_i,c_i) c_i,\\\\\n",
    "\\dfrac{d T_i}{dt} = K_4 \\dfrac{1}{(\\Delta z)^2} \\left[T_i(t) -2 T_{i-1}(t) + T_{i-2}(t)\\right] -K_5 \\dfrac{1}{\\Delta z} \\left[T_i(t) - T_{i-1}(t)\\right] + K_6 r_a(a_i,T_i,c_i) c_i,\\\\\n",
    "\\dfrac{d c_i}{dt} = K_7 r_s(s_i,T_i) c_i,\n",
    "$$\n",
    "where \n",
    "$$\n",
    "r_a = -d_1 \\exp\\left(-d_2/T_i\\right) a_i c_i,\\\\\n",
    "r_s = -d_3 \\exp\\left(-d_4/T_i\\right)s_i %\\dfrac{d_3 \\exp\\left((d_4-d_5)/T_i\\right)s_i}{1+d_6 \\exp(d_4/T_i)s_i}.\n",
    "$$\n",
    "\n",
    "In these dynamical equations, the constants $K_j$ and $d_j$ belongs to $\\mathbb{R}^+$, to be estimated from the data via nonlinear optimization algorithm. We do not include noises model in the dynamics nor in the measurement model. We would handle this via stochastic smoothing or Gaussian processes system identification. These dynamics will be the starting point. It is assumed that initially $c_i = 1, \\forall i$.\n",
    "\n",
    "We then discretize the dynamics above in time, resulting in the following dynamics:\n",
    "$$\n",
    "s_i(t+1) = s_i(t)+K_0 \\dfrac{1}{(\\Delta z)^2} \\left[s_i(t) -2 s_{i-1}(t) + s_{i-2}(t)\\right] -K_1 \\dfrac{1}{\\Delta z} \\left[s_i(t) - s_{i-1}(t)\\right]  - K_2 r_s(s_i,T_i) c_i,\\\\\n",
    "a_i(t+1) = a_i(t)+K_3 \\dfrac{1}{(\\Delta z)^2} \\left[a_i(t) -2 a_{i-1}(t) + a_{i-2}(t)\\right] -K_1 \\dfrac{1}{\\Delta z} \\left[a_i(t) - a_{i-1}(t)\\right] - K_2 r_a(a_i,T_i,c_i) c_i,\\\\\n",
    "T_i(t+1) = T_i(t)+K_4 \\dfrac{1}{(\\Delta z)^2} \\left[T_i(t) -2 T_{i-1}(t) + T_{i-2}(t)\\right] -K_5 \\dfrac{1}{\\Delta z} \\left[T_i(t) - T_{i-1}(t)\\right] + K_6 r_a(a_i,T_i,c_i) c_i,\\\\\n",
    "c_i(t+1) = c_i(t)+ K_7 r_s(s_i,T_i) c_i,\n",
    "$$\n",
    "\n",
    "\n",
    "\n",
    "We could start $u(t,z_i) = K_4 r_a(s_i(t),T_i(t)) c_i(t)$.\n",
    "\n",
    "$$\n",
    "c_i = c_i(0) \\exp(\\int r_s(t) dt)\\\\\n",
    "u_i = -r_a(a_i,T_i,c_i) c_i(0) \\exp(\\int r_s(t) dt)\\\\\n",
    "    = d_1 \\exp\\left(-d_2/T_i\\right) a_i c_i(0)^2 \\exp(2 \\int r_s(t) dt)\\\\\n",
    "    = d_1 \\exp\\left(-d_2/T_i\\right) \\exp(\\alpha_i(t,z_i)) c_i(0)^2 \\exp(2 \\int r_s(t,z_i) dt)\\\\\n",
    "\\log(u_i) = \\log(d_1) -d_2/T_i + \\alpha_i(t,z_i) + 2\\log(c_i(0)) + 2 \\int r_s(t,z_i) dt\\\\\n",
    "$$"
   ]
  },
  {
   "cell_type": "markdown",
   "metadata": {},
   "source": [
    "### Load necessary libraries"
   ]
  },
  {
   "cell_type": "code",
   "execution_count": 1,
   "metadata": {},
   "outputs": [],
   "source": [
    "import numpy as np\n",
    "import matplotlib.pyplot as plt\n",
    "import torch\n",
    "import sys\n",
    "import os\n",
    "import pandas as pd\n",
    "import datetime\n",
    "import torch.nn as nn\n",
    "from torch.utils.data import Dataset, DataLoader\n",
    "Dtype = torch.float\n",
    "\n",
    "if torch.cuda.is_available():\n",
    "    device = torch.device(\"cuda\")\n",
    "else:\n",
    "    device = torch.device(\"cpu\")"
   ]
  },
  {
   "cell_type": "markdown",
   "metadata": {},
   "source": [
    "Define discrete dynamics that will be used for system identification."
   ]
  },
  {
   "cell_type": "code",
   "execution_count": 2,
   "metadata": {},
   "outputs": [
    {
     "data": {
      "text/plain": [
       "device(type='cpu')"
      ]
     },
     "execution_count": 2,
     "metadata": {},
     "output_type": "execute_result"
    }
   ],
   "source": [
    "device"
   ]
  },
  {
   "cell_type": "code",
   "execution_count": 3,
   "metadata": {},
   "outputs": [],
   "source": [
    "'''\n",
    "Discrete catalyst dynamics, with assumption that the number of layer is 7\n",
    "The diffusion take into account here\n",
    "'''\n",
    "# @torch.jit.script\n",
    "def catalyst_dynamics(x,u,n_levels,Delta_z,K,d):\n",
    "    #input are the log\n",
    "    d = torch.exp(d)\n",
    "    K = torch.exp(K)\n",
    "#     d = torch.max(d,torch.zeros_like(d))\n",
    "#     d = torch.max(K,torch.zeros_like(K))\n",
    "    \n",
    "    s_in = u[0]\n",
    "    a_in = u[1]\n",
    "    T_in = u[2]\n",
    "\n",
    "    #get the current states\n",
    "    s = x[:n_levels]\n",
    "    a = x[n_levels:2*n_levels]\n",
    "    T = x[2*n_levels:3*n_levels]\n",
    "    c = x[3*n_levels:]\n",
    "    \n",
    "    #create new state\n",
    "    x_new = torch.zeros_like(x)\n",
    "    s_new = x_new[:n_levels] #This is only view\n",
    "    a_new = x_new[n_levels:2*n_levels]\n",
    "    T_new = x_new[2*n_levels:3*n_levels]\n",
    "    c_new = x_new[3*n_levels:]\n",
    "    \n",
    "    for i in range(n_levels):\n",
    "        if i == 0:\n",
    "            s_i_min_1 = s_in\n",
    "            a_i_min_1 = a_in\n",
    "            T_i_min_1 = T_in\n",
    "            \n",
    "            s_i_min_2 = s_in\n",
    "            a_i_min_2 = a_in\n",
    "            T_i_min_2 = T_in\n",
    "        else:\n",
    "            s_i_min_1 = s[i-1]\n",
    "            a_i_min_1 = a[i-1]\n",
    "            T_i_min_1 = T[i-1]\n",
    "            if i==1:\n",
    "                s_i_min_2 = s_in\n",
    "                a_i_min_2 = a_in\n",
    "                T_i_min_2 = T_in\n",
    "            else:\n",
    "                s_i_min_2 = s[i-2]\n",
    "                a_i_min_2 = a[i-2]\n",
    "                T_i_min_2 = T[i-2]\n",
    "        \n",
    "        Delta_s = (s[i] - s_i_min_1)/Delta_z[i]\n",
    "        Delta_a = (a[i] - a_i_min_1)/Delta_z[i]\n",
    "        Delta_T = (T[i] - T_i_min_1)/Delta_z[i]\n",
    "        \n",
    "        \n",
    "        Delta2_s = (s[i] - 2*s_i_min_1 + s_i_min_2)/(Delta_z[i]*Delta_z[i])\n",
    "        Delta2_a = (a[i] - 2*a_i_min_1 + a_i_min_2)/(Delta_z[i]*Delta_z[i])\n",
    "        Delta2_T = (T[i] - 2*T_i_min_1 + T_i_min_2)/(Delta_z[i]*Delta_z[i])\n",
    "        \n",
    "        \n",
    "        rA_i = rA(s[i],T[i],d)\n",
    "        rS_i = rS(a[i],T[i],c[i],d)\n",
    "        \n",
    "        s_new[i] = s[i]+K[0]*Delta2_s - K[1]*Delta_s - K[2]*rS_i*c[i]\n",
    "        a_new[i] = a[i]+K[3]*Delta2_a - K[1]*Delta_a - K[2]*rA_i*c[i]\n",
    "        T_new[i] = T[i]+K[4]*Delta2_T - K[5]*Delta_T + K[6]*rA_i*c[i]\n",
    "        c_new[i] = c[i]+K[7]*rS_i\n",
    "        \n",
    "        \n",
    "    return x_new\n",
    "\n",
    "# @torch.jit.script\n",
    "def temperature_output(x,n_levels=7):\n",
    "    return x[2*n_levels:3*n_levels]\n",
    "\n",
    "'''\n",
    "Aromatic reaction rate\n",
    "'''\n",
    "# @torch.jit.script\n",
    "def rA(s,T,d):\n",
    "\n",
    "    res =  -d[2]*torch.exp(-d[3]/T)*s;\n",
    "#     res = res/(1+(d[4]*exp(d[3]/T)*s));\n",
    "    return res\n",
    "\n",
    "'''\n",
    "Sulphur reaction rate\n",
    "'''\n",
    "# @torch.jit.script\n",
    "def rS(a,T,c,d):\n",
    "    res =  -d[0]*torch.exp(-d[1]/T)*a*c;\n",
    "    return res"
   ]
  },
  {
   "cell_type": "code",
   "execution_count": 4,
   "metadata": {},
   "outputs": [],
   "source": [
    "'''\n",
    "Discrete catalyst dynamics, where the dispersion is not assumed\n",
    "'''\n",
    "# @torch.jit.script\n",
    "def simple_catalyst_dynamics(x,u,n_levels,Delta_z,K,d):\n",
    "\n",
    "    #input are the log\n",
    "    d = torch.exp(d)\n",
    "    K = torch.exp(K)\n",
    "#     d = torch.max(d,torch.zeros_like(d))\n",
    "#     d = torch.max(K,torch.zeros_like(K))\n",
    "    \n",
    "    s_in = u[0]\n",
    "    a_in = u[1]\n",
    "    T_in = u[2]\n",
    "\n",
    "    #get the current states\n",
    "    s = x[:n_levels]\n",
    "    a = x[n_levels:2*n_levels]\n",
    "    T = x[2*n_levels:3*n_levels]\n",
    "    c = x[3*n_levels:]\n",
    "    \n",
    "    #create new state\n",
    "    x_new = torch.zeros_like(x)\n",
    "    s_new = x_new[:n_levels] #This is only view\n",
    "    a_new = x_new[n_levels:2*n_levels]\n",
    "    T_new = x_new[2*n_levels:3*n_levels]\n",
    "    c_new = x_new[3*n_levels:]\n",
    "    \n",
    "    for i in range(n_levels):\n",
    "        if i == 0:\n",
    "            s_i_min_1 = s_in\n",
    "            a_i_min_1 = a_in\n",
    "            T_i_min_1 = T_in\n",
    "            \n",
    "        else:\n",
    "            s_i_min_1 = s[i-1]\n",
    "            a_i_min_1 = a[i-1]\n",
    "            T_i_min_1 = T[i-1]\n",
    "            \n",
    "        \n",
    "        Delta_s = (s[i] - s_i_min_1)/Delta_z[i]\n",
    "        Delta_a = (a[i] - a_i_min_1)/Delta_z[i]\n",
    "        Delta_T = (T[i] - T_i_min_1)/Delta_z[i]\n",
    "        \n",
    "        \n",
    "        rA_i = rA(s[i],T[i],d)\n",
    "        \n",
    "        rS_i = rS(a[i],T[i],c[i],d)\n",
    "        \n",
    "        s_new[i] = s[i]- K[0]*Delta_s - K[1]*rS_i*c[i]\n",
    "        a_new[i] = a[i]- K[0]*Delta_a - K[1]*rA_i*c[i]\n",
    "        T_new[i] = T[i]- K[2]*Delta_T + K[3]*rA_i*c[i]\n",
    "        c_new[i] = c[i]+K[4]*rS_i\n",
    "        \n",
    "        \n",
    "    return x_new"
   ]
  },
  {
   "cell_type": "markdown",
   "metadata": {},
   "source": [
    "Define costumized `Torch.nn` so that the parameter could be handled with `Torch.optim` algorithms"
   ]
  },
  {
   "cell_type": "code",
   "execution_count": 5,
   "metadata": {},
   "outputs": [],
   "source": [
    "#use Torch nn structure for easy manipulation of gradient and update\n",
    "class GreyIdentification(nn.Module):\n",
    "    def __init__(self,device,n_levels,initial_state,K_init,d_init,input_scale_init,simple=False):\n",
    "        super(GreyIdentification,self).__init__()\n",
    "        self.n_levels = n_levels\n",
    "        self.Delta_z = torch.tensor([1.,1.,1.,1.,1.,1.,1.],dtype=Dtype,device=device)\n",
    "        self.input_scale = nn.Parameter(data=input_scale_init,requires_grad=True)\n",
    "        self.K = nn.Parameter(data=K_init,requires_grad=True)\n",
    "        self.d = nn.Parameter(data=d_init,requires_grad=True)\n",
    "        self.initial_state = initial_state ##this can be estimated as well in the future\n",
    "#         self.state = initial_state.clone()#state at current time\n",
    "        self.useSimple = simple\n",
    "        if self.useSimple:\n",
    "            self.dynamics = simple_catalyst_dynamics\n",
    "        else:\n",
    "            self.dynamics = catalyst_dynamics\n",
    "        \n",
    "    \n",
    "    '''\n",
    "    forward, given a history of input u, the network will predict the history of output y\n",
    "    '''\n",
    "    def forward(self,u_hist):\n",
    "        #first we need to sclae the input\n",
    "        u_hist = torch.cat((torch.exp(self.input_scale),torch.tensor([1.],device=device)))*u_hist\n",
    "        state = self.initial_state.clone()\n",
    "        output_hist = torch.empty(u_hist.shape[0],self.n_levels,dtype=Dtype,device=device)\n",
    "        output_hist[0,:] = temperature_output(state,self.n_levels)\n",
    "        \n",
    "        \n",
    "        for i in range(u_hist.shape[0]-1):\n",
    "            state = self.dynamics(state,u_hist[i,:],self.n_levels,self.Delta_z,self.K,self.d)\n",
    "            output_hist[i+1,:] = temperature_output(state,self.n_levels)\n",
    "            \n",
    "        return output_hist"
   ]
  },
  {
   "cell_type": "code",
   "execution_count": 6,
   "metadata": {},
   "outputs": [],
   "source": [
    "# From Kate & Alex\n",
    "class CustomDataset(Dataset):\n",
    "    def __init__(self, df, n_levels=7, window=28, add_noise=False):\n",
    "        self.a_in = torch.from_numpy(df['AROM-LC wt-%'].values).float()\n",
    "        self.s_in = torch.from_numpy(df['sulphur feed max'].values).float()\n",
    "        self.temp_in = torch.from_numpy(df['TI8585'].values).float()\n",
    "        self.temp = torch.from_numpy(df[temperature_columns[0,1:-1]].values).float()\n",
    "               \n",
    "        self.dates = df.index\n",
    "        self.window = window\n",
    "        self.add_noise = add_noise\n",
    "    \n",
    "    def __len__(self):\n",
    "        times = self.a_in.shape[0]\n",
    "        return times - self.window + 1        \n",
    "        \n",
    "    def __getitem__(self, idx):\n",
    "        noise_s = 0.00001 * torch.randn(self.window) if self.add_noise else 0.0\n",
    "        noise_a = 0.01 * torch.randn(self.window) if self.add_noise else 0.0\n",
    "        noise_temp = 0.01 * torch.randn(self.window) if self.add_noise else 0.0\n",
    "        return (self.s_in[idx:idx+self.window] + noise_s, \\\n",
    "               self.a_in[idx:idx+self.window] + noise_a, \\\n",
    "               self.temp_in[idx:idx+self.window] + noise_temp, \\\n",
    "               self.temp[idx:idx+self.window].squeeze(), \\\n",
    "               )"
   ]
  },
  {
   "cell_type": "markdown",
   "metadata": {},
   "source": [
    "### Load data"
   ]
  },
  {
   "cell_type": "code",
   "execution_count": 7,
   "metadata": {},
   "outputs": [],
   "source": [
    "df_raw = pd.read_hdf('../Data/timeseries_complete.hdf5',key='KAAPO_hour_15_16_17_18_19_complete')\n",
    "df_raw = df_raw[(df_raw.index < \"2017-03-26\") & (df_raw.index > \"2015-07-14\")]\n",
    "df_lab = pd.read_hdf('../Data/Laboratory.hdf5',key='Laboratory').interpolate()\n",
    "df_lab = df_lab[(df_lab.index < \"2017-03-26\") & (df_lab.index > \"2015-07-14\")]"
   ]
  },
  {
   "cell_type": "code",
   "execution_count": 8,
   "metadata": {},
   "outputs": [],
   "source": [
    "temperature_columns = np.array(\n",
    "    [['TI8585','TI8553','TI8554','TI8555','TI8556','TI8557','TI8558','TI8559', 'TIZ8578A'],\n",
    "     ['TI8585','TI8560','TI8561','TI8562','TI8563','TI8564','TI8565','TI8566', 'TIZ8578A'],\n",
    "     ['TI8585','TI8567','TI8568','TI8569','TI8570','TI8571','TI8572','TI8573', 'TIZ8578A']],dtype=object)\n",
    "tc_heights =np.array([[7600,6550,5500,4450,3400,2350,1300],\n",
    "             [7250,6250,5150,4100,3050,2000,950],\n",
    "             [6900,5850,4800,3750,2700,1650,600]])"
   ]
  },
  {
   "cell_type": "markdown",
   "metadata": {},
   "source": [
    "### Select interval of interest and resample dataframe to daily data"
   ]
  },
  {
   "cell_type": "code",
   "execution_count": 9,
   "metadata": {},
   "outputs": [],
   "source": [
    "df = pd.concat([df_raw, df_lab], axis=1)\n",
    "df = df.resample('W').median() #resample daily or weekly"
   ]
  },
  {
   "cell_type": "markdown",
   "metadata": {},
   "source": [
    "### Select the input and output"
   ]
  },
  {
   "cell_type": "code",
   "execution_count": 10,
   "metadata": {},
   "outputs": [],
   "source": [
    "trainset = CustomDataset(df, n_levels=7, window=28, add_noise=False)\n",
    "trainloader = DataLoader(dataset=trainset, batch_size=1, shuffle=True, pin_memory=True)"
   ]
  },
  {
   "cell_type": "code",
   "execution_count": 12,
   "metadata": {},
   "outputs": [],
   "source": [
    "# u_hist = torch.tensor(df[['AI8510A','Aromatic_percentage','TI8585']].values,device=device).float()\n",
    "u_hist = torch.tensor(df[['sulphur feed max','AROM-LC wt-%','TI8585']].fillna(0).values,device=device).float()\n",
    "y_hist = torch.tensor(df[temperature_columns[0,1:-1]].values,device=device).float()"
   ]
  },
  {
   "cell_type": "markdown",
   "metadata": {},
   "source": [
    "### Initialize the model"
   ]
  },
  {
   "cell_type": "code",
   "execution_count": 13,
   "metadata": {},
   "outputs": [],
   "source": [
    "#number of layer\n",
    "layer_num = 7\n",
    "\n",
    "#set initial state\n",
    "s_init = u_hist[0,0]*torch.ones(layer_num,device=device,dtype=Dtype)\n",
    "a_init = u_hist[0,1]*torch.ones(layer_num,device=device,dtype=Dtype)\n",
    "T_init = y_hist[0,:]\n",
    "c_init = torch.ones(layer_num,device=device)\n",
    "initial_state = torch.cat((s_init,a_init,T_init,c_init))\n",
    "\n",
    "#initialize the parameter\n",
    "K_init = torch.log(torch.tensor([0.1090, 0.9871, 0.7476, 0.1604, 0.3059, 0.5792, 0.6542, 0.4632],dtype=Dtype,device=device))\n",
    "# K_init = torch.tensor([0.1090, 0.9871, 0.7476, 0.1604, 0.3059, 0.5792, 0.6542, 0.4632],dtype=Dtype,device=device)\n",
    "# K_init = torch.randn(8,dtype=Dtype,device=device)\n",
    "\n",
    "K_init_simple = torch.log(torch.tensor([0.9871, 0.7476, 0.5792, 0.6542, 0.4632],dtype=Dtype,device=device))\n",
    "# K_init_simple = torch.tensor([0.9871, 0.7476, 0.5792, 0.6542, 0.4632],dtype=Dtype,device=device)\n",
    "# K_init = torch.exp(torch.randn(8))\n",
    "\n",
    "d_init = torch.log(torch.tensor([0.2073, 0.1953, 0.8495, 0.8825],dtype=Dtype,device=device))\n",
    "# d_init = torch.tensor([0.2073, 0.1953, 0.8495, 0.8825],dtype=Dtype,device=device)\n",
    "# d_init = torch.tensor([0.2073, 0.1953, 0.8495, 0.8825],dtype=Dtype)\n",
    "\n",
    "input_scale_init = torch.randn(2,device=device)\n",
    "\n",
    "greyIdentification = GreyIdentification(device,7,initial_state,K_init_simple,d_init,input_scale_init,simple=True)\n",
    "# greyIdentification = GreyIdentification(device,7,initial_state,K_init,d_init,input_scale_init)\n",
    "greyIdentification.input_scale.data = torch.tensor([0.4789, 1.4224],dtype=Dtype,device=device)\n",
    "#Define loss function\n",
    "loss_fn = torch.nn.MSELoss(reduction='sum')"
   ]
  },
  {
   "cell_type": "code",
   "execution_count": 14,
   "metadata": {},
   "outputs": [],
   "source": [
    "\n",
    "learning_rate = 1e-3\n",
    "\n",
    "#use Adam at the moment for the optimizer\n",
    "# optimizer = torch.optim.Adam(greyIdentification.parameters(), lr=learning_rate)\n",
    "\n",
    "#use Adadelta\n",
    "optimizer = torch.optim.AdamW(greyIdentification.parameters(), lr=learning_rate)\n",
    "train_len = len(trainloader)\n",
    "epochs = 100\n",
    "# use scheduler\n",
    "scheduler = torch.optim.lr_scheduler.ReduceLROnPlateau(optimizer, 'min')\n",
    "# scheduler = torch.optim.lr_scheduler.OneCycleLR(optimizer, max_lr=0.1, steps_per_epoch=train_len, epochs=epochs)"
   ]
  },
  {
   "cell_type": "markdown",
   "metadata": {},
   "source": [
    "#### Check whether the dynamics with initial K_init and d_init can be runned through all timesteps without giving `nan` or `inf`"
   ]
  },
  {
   "cell_type": "code",
   "execution_count": 15,
   "metadata": {},
   "outputs": [
    {
     "data": {
      "text/plain": [
       "tensor(False)"
      ]
     },
     "execution_count": 15,
     "metadata": {},
     "output_type": "execute_result"
    }
   ],
   "source": [
    "state_hist = torch.empty(u_hist.shape[0],28,device=device)\n",
    "state = initial_state.clone()\n",
    "state_hist[0,:] = state\n",
    "for i in range(u_hist.shape[0]-1):\n",
    "    state = greyIdentification.dynamics(state,u_hist[i,:],greyIdentification.n_levels,\\\n",
    "                                        greyIdentification.Delta_z,K_init,d_init)\n",
    "    state_hist[i+1,:] = state\n",
    "#     print(state[:layerNum])\n",
    "#     print(state[layerNum:2*layerNum])\n",
    "#     print(state[2*layer_num:3*layer_num])\n",
    "#     print(state[3*layer_num:])\n",
    "torch.any(torch.isnan(state_hist))"
   ]
  },
  {
   "cell_type": "code",
   "execution_count": 16,
   "metadata": {},
   "outputs": [
    {
     "data": {
      "text/plain": [
       "[<matplotlib.lines.Line2D at 0x7f69df68a9d0>,\n",
       " <matplotlib.lines.Line2D at 0x7f69d5f55090>,\n",
       " <matplotlib.lines.Line2D at 0x7f69d5f55250>,\n",
       " <matplotlib.lines.Line2D at 0x7f69d5f55410>,\n",
       " <matplotlib.lines.Line2D at 0x7f69d5f555d0>,\n",
       " <matplotlib.lines.Line2D at 0x7f69d5f55790>,\n",
       " <matplotlib.lines.Line2D at 0x7f69d5f559d0>]"
      ]
     },
     "execution_count": 16,
     "metadata": {},
     "output_type": "execute_result"
    },
    {
     "data": {
      "image/png": "[encoded data removed]",
      "text/plain": [
       "<Figure size 432x288 with 1 Axes>"
      ]
     },
     "metadata": {
      "needs_background": "light"
     },
     "output_type": "display_data"
    }
   ],
   "source": [
    "plt.plot(state_hist.to('cpu')[:,3*layer_num:])"
   ]
  },
  {
   "cell_type": "markdown",
   "metadata": {},
   "source": [
    "### Learn the parameter"
   ]
  },
  {
   "cell_type": "code",
   "execution_count": 17,
   "metadata": {},
   "outputs": [
    {
     "name": "stdout",
     "output_type": "stream",
     "text": [
      "Epoch 1: loss is 6355410.9677419355.\n",
      "Epoch 2: loss is 6155739.838709678.\n",
      "Epoch 3: loss is nan.\n",
      "Epoch 4: loss is nan.\n",
      "Epoch 5: loss is nan.\n",
      "Epoch 6: loss is nan.\n",
      "Epoch 7: loss is nan.\n",
      "Epoch 8: loss is nan.\n",
      "Epoch 9: loss is nan.\n",
      "Epoch 10: loss is nan.\n",
      "Epoch 11: loss is nan.\n",
      "Epoch 12: loss is nan.\n",
      "Epoch 13: loss is nan.\n",
      "Epoch 14: loss is nan.\n",
      "Epoch 15: loss is nan.\n",
      "Epoch 16: loss is nan.\n",
      "Epoch 17: loss is nan.\n",
      "Epoch 18: loss is nan.\n",
      "Epoch 19: loss is nan.\n",
      "Epoch 20: loss is nan.\n",
      "Epoch 21: loss is nan.\n",
      "Epoch 22: loss is nan.\n",
      "Epoch 23: loss is nan.\n",
      "Epoch 24: loss is nan.\n",
      "Epoch 25: loss is nan.\n",
      "Epoch 26: loss is nan.\n",
      "Epoch 27: loss is nan.\n",
      "Epoch 28: loss is nan.\n",
      "Epoch 29: loss is nan.\n",
      "Epoch 30: loss is nan.\n",
      "Epoch 31: loss is nan.\n",
      "Epoch 32: loss is nan.\n",
      "Epoch 33: loss is nan.\n",
      "Epoch 34: loss is nan.\n",
      "Epoch 35: loss is nan.\n",
      "Epoch 36: loss is nan.\n",
      "Epoch 37: loss is nan.\n",
      "Epoch 38: loss is nan.\n",
      "Epoch 39: loss is nan.\n",
      "Epoch 40: loss is nan.\n",
      "Epoch 41: loss is nan.\n",
      "Epoch 42: loss is nan.\n",
      "Epoch 43: loss is nan.\n",
      "Epoch 44: loss is nan.\n",
      "Epoch 45: loss is nan.\n",
      "Epoch 46: loss is nan.\n",
      "Epoch 47: loss is nan.\n",
      "Epoch 48: loss is nan.\n",
      "Epoch 49: loss is nan.\n",
      "Epoch 50: loss is nan.\n",
      "Epoch 51: loss is nan.\n",
      "Epoch 52: loss is nan.\n",
      "Epoch 53: loss is nan.\n",
      "Epoch 54: loss is nan.\n",
      "Epoch 55: loss is nan.\n",
      "Epoch 56: loss is nan.\n",
      "Epoch 57: loss is nan.\n",
      "Epoch 58: loss is nan.\n",
      "Epoch 59: loss is nan.\n",
      "Epoch 60: loss is nan.\n",
      "Epoch 61: loss is nan.\n",
      "Epoch 62: loss is nan.\n",
      "Epoch 63: loss is nan.\n",
      "Epoch 64: loss is nan.\n",
      "Epoch 65: loss is nan.\n",
      "Epoch 66: loss is nan.\n",
      "Epoch 67: loss is nan.\n",
      "Epoch 68: loss is nan.\n",
      "Epoch 69: loss is nan.\n",
      "Epoch 70: loss is nan.\n",
      "Epoch 71: loss is nan.\n",
      "Epoch 72: loss is nan.\n",
      "Epoch 73: loss is nan.\n",
      "Epoch 74: loss is nan.\n",
      "Epoch 75: loss is nan.\n",
      "Epoch 76: loss is nan.\n",
      "Epoch 77: loss is nan.\n",
      "Epoch 78: loss is nan.\n",
      "Epoch 79: loss is nan.\n",
      "Epoch 80: loss is nan.\n",
      "Epoch 81: loss is nan.\n",
      "Epoch 82: loss is nan.\n",
      "Epoch 83: loss is nan.\n",
      "Epoch 84: loss is nan.\n",
      "Epoch 85: loss is nan.\n",
      "Epoch 86: loss is nan.\n",
      "Epoch 87: loss is nan.\n",
      "Epoch 88: loss is nan.\n",
      "Epoch 89: loss is nan.\n",
      "Epoch 90: loss is nan.\n",
      "Epoch 91: loss is nan.\n",
      "Epoch 92: loss is nan.\n",
      "Epoch 93: loss is nan.\n",
      "Epoch 94: loss is nan.\n",
      "Epoch 95: loss is nan.\n",
      "Epoch 96: loss is nan.\n",
      "Epoch 97: loss is nan.\n",
      "Epoch 98: loss is nan.\n",
      "Epoch 99: loss is nan.\n",
      "Epoch 100: loss is nan.\n"
     ]
    }
   ],
   "source": [
    "#Set how many epoch?\n",
    "for ep in range(epochs):\n",
    "    epoch_loss = 0\n",
    "    for s_in, a_in, t_in, y in trainloader:\n",
    "        \n",
    "        a_in = a_in.to(device)\n",
    "        s_in = s_in.to(device)\n",
    "        t_in = s_in.to(device)\n",
    "        y = y.to(device).squeeze()\n",
    "        \n",
    "\n",
    "        # shape feed_in = (batch_size, n_times, 2)\n",
    "        u = torch.stack([s_in,s_in,t_in], dim=2).squeeze()\n",
    "        y_pred = greyIdentification(u)\n",
    "\n",
    "        optimizer.zero_grad()\n",
    "        loss = loss_fn(y_pred,y)\n",
    "        loss.backward(retain_graph=True)\n",
    "        optimizer.step()\n",
    "        epoch_loss += loss.item()\n",
    "    \n",
    "    scheduler.step(epoch_loss)\n",
    "    print(\"Epoch {0}: loss is {1}.\".format(ep + 1, epoch_loss / train_len))\n",
    "    \n",
    "    \n",
    "#     y_hist_pred = greyIdentification(u_hist)\n",
    "#     loss = loss_fn(y_hist,y_hist_pred)\n",
    "#     if ep % 10 == 9:\n",
    "#         print(ep, loss.item())\n",
    "\n",
    "    \n",
    "#     optimizer.zero_grad()\n",
    "\n",
    "#     # Backward pass: compute gradient of the loss with respect to model\n",
    "#     # parameters\n",
    "#     loss.backward(retain_graph=True)#but why\n",
    "\n",
    "#     # Calling the step function on an Optimizer makes an update to its\n",
    "#     # parameters\n",
    "#     optimizer.step()\n",
    "    \n",
    "#     #call scheduler\n",
    "#     scheduler.step()"
   ]
  },
  {
   "cell_type": "code",
   "execution_count": 18,
   "metadata": {},
   "outputs": [
    {
     "data": {
      "text/plain": [
       "tensor([[204.7490, 204.8300, 199.4270, 207.7520, 207.4340, 206.9350, 207.6830],\n",
       "        [     nan,      nan,      nan,      nan,      nan,      nan,      nan],\n",
       "        [     nan,      nan,      nan,      nan,      nan,      nan,      nan],\n",
       "        [     nan,      nan,      nan,      nan,      nan,      nan,      nan],\n",
       "        [     nan,      nan,      nan,      nan,      nan,      nan,      nan],\n",
       "        [     nan,      nan,      nan,      nan,      nan,      nan,      nan],\n",
       "        [     nan,      nan,      nan,      nan,      nan,      nan,      nan],\n",
       "        [     nan,      nan,      nan,      nan,      nan,      nan,      nan],\n",
       "        [     nan,      nan,      nan,      nan,      nan,      nan,      nan],\n",
       "        [     nan,      nan,      nan,      nan,      nan,      nan,      nan],\n",
       "        [     nan,      nan,      nan,      nan,      nan,      nan,      nan],\n",
       "        [     nan,      nan,      nan,      nan,      nan,      nan,      nan],\n",
       "        [     nan,      nan,      nan,      nan,      nan,      nan,      nan],\n",
       "        [     nan,      nan,      nan,      nan,      nan,      nan,      nan],\n",
       "        [     nan,      nan,      nan,      nan,      nan,      nan,      nan],\n",
       "        [     nan,      nan,      nan,      nan,      nan,      nan,      nan],\n",
       "        [     nan,      nan,      nan,      nan,      nan,      nan,      nan],\n",
       "        [     nan,      nan,      nan,      nan,      nan,      nan,      nan],\n",
       "        [     nan,      nan,      nan,      nan,      nan,      nan,      nan],\n",
       "        [     nan,      nan,      nan,      nan,      nan,      nan,      nan],\n",
       "        [     nan,      nan,      nan,      nan,      nan,      nan,      nan],\n",
       "        [     nan,      nan,      nan,      nan,      nan,      nan,      nan],\n",
       "        [     nan,      nan,      nan,      nan,      nan,      nan,      nan],\n",
       "        [     nan,      nan,      nan,      nan,      nan,      nan,      nan],\n",
       "        [     nan,      nan,      nan,      nan,      nan,      nan,      nan],\n",
       "        [     nan,      nan,      nan,      nan,      nan,      nan,      nan],\n",
       "        [     nan,      nan,      nan,      nan,      nan,      nan,      nan],\n",
       "        [     nan,      nan,      nan,      nan,      nan,      nan,      nan]],\n",
       "       grad_fn=<CopySlices>)"
      ]
     },
     "execution_count": 18,
     "metadata": {},
     "output_type": "execute_result"
    }
   ],
   "source": [
    "y_pred"
   ]
  },
  {
   "cell_type": "code",
   "execution_count": null,
   "metadata": {},
   "outputs": [],
   "source": [
    "greyIdentification.input_scale"
   ]
  },
  {
   "cell_type": "code",
   "execution_count": 119,
   "metadata": {},
   "outputs": [
    {
     "data": {
      "text/plain": [
       "Parameter containing:\n",
       "tensor([-2.1636,  0.0270, -0.3220, -1.8716, -1.2107, -0.5198, -0.4577, -0.7313],\n",
       "       device='cuda:0', requires_grad=True)"
      ]
     },
     "execution_count": 119,
     "metadata": {},
     "output_type": "execute_result"
    }
   ],
   "source": [
    "greyIdentification.K"
   ]
  },
  {
   "cell_type": "code",
   "execution_count": 120,
   "metadata": {},
   "outputs": [
    {
     "data": {
      "text/plain": [
       "Parameter containing:\n",
       "tensor([-1.5408, -1.6528, -0.1959, -0.0939], device='cuda:0',\n",
       "       requires_grad=True)"
      ]
     },
     "execution_count": 120,
     "metadata": {},
     "output_type": "execute_result"
    }
   ],
   "source": [
    "greyIdentification.d"
   ]
  },
  {
   "cell_type": "markdown",
   "metadata": {},
   "source": [
    "#### Save Model"
   ]
  },
  {
   "cell_type": "code",
   "execution_count": 100,
   "metadata": {},
   "outputs": [],
   "source": [
    "def save_model(model, filename):\n",
    "    try:\n",
    "        do_save = input('Do you want to save the model (type yes to confirm)? ').lower()\n",
    "        if do_save == 'yes':\n",
    "            torch.save(model.state_dict(), filename)\n",
    "            print('Model saved to %s.' % (filename))\n",
    "        else:\n",
    "            print('Model not saved.')\n",
    "    except:\n",
    "        raise Exception('The notebook should be run or validated with skip_training=True.')\n",
    "\n",
    "\n",
    "def load_model(model, filename, device):\n",
    "    model.load_state_dict(torch.load(filename, map_location=lambda storage, loc: storage))\n",
    "    print('Model loaded from %s.' % filename)\n",
    "    model.to(device)\n",
    "    model.eval()"
   ]
  },
  {
   "cell_type": "code",
   "execution_count": 132,
   "metadata": {},
   "outputs": [
    {
     "name": "stdin",
     "output_type": "stream",
     "text": [
      "Do you want to save the model (type yes to confirm)?  y\n"
     ]
    },
    {
     "name": "stdout",
     "output_type": "stream",
     "text": [
      "Model not saved.\n"
     ]
    }
   ],
   "source": [
    "skip_training=T\n",
    "if not skip_training:\n",
    "    save_model(greyIdentification, 'greyIdentification.pth')\n",
    "    \n",
    "else:\n",
    "    n_levels = len(selected_cols)\n",
    "    model = CustomRnn(n_levels, use_true_params=False)\n",
    "    load_model(greyIdentification, 'greyIdentification.pth', device)"
   ]
  },
  {
   "cell_type": "code",
   "execution_count": 302,
   "metadata": {},
   "outputs": [
    {
     "data": {
      "text/plain": [
       "tensor([1., 0., 0.])"
      ]
     },
     "execution_count": 302,
     "metadata": {},
     "output_type": "execute_result"
    }
   ],
   "source": [
    "torch.max(torch.tensor([1.,-1,0.]),torch.zeros(3))"
   ]
  },
  {
   "cell_type": "code",
   "execution_count": null,
   "metadata": {},
   "outputs": [],
   "source": []
  }
 ],
 "metadata": {
  "kernelspec": {
   "display_name": "Python 3",
   "language": "python",
   "name": "python3"
  },
  "language_info": {
   "codemirror_mode": {
    "name": "ipython",
    "version": 3
   },
   "file_extension": ".py",
   "mimetype": "text/x-python",
   "name": "python",
   "nbconvert_exporter": "python",
   "pygments_lexer": "ipython3",
   "version": "3.7.7"
  }
 },
 "nbformat": 4,
 "nbformat_minor": 4
}
