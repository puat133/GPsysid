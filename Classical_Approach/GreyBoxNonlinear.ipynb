{
 "cells": [
  {
   "cell_type": "markdown",
   "metadata": {},
   "source": [
    "# Nonlinear Greybox System Identification \n",
    "\n",
    "In this notebook we attempt to do greybox type of nonlinear system identification. The starting point is the dynamic given by Thomas Price and John Butt in *Catalyst Poisoning and Fixed Bed Reactor Dynamic II: Adiabatic Reactors*. \n",
    "The starting assumptions are the following:\n",
    "1. The input to the dynamic is the inlet temperature, the aromatic flow rate, the sulfur flow rate.\n",
    "2. Diffusion dynamic on planar axis is neglected.\n",
    "3. Partial differentiation with respect to horizontal axis is approximated by its backward numerical differentiation,\n",
    "   i.e., \n",
    "   $$\\left. \\dfrac{\\partial T}{\\partial z}\\right|_{z=z_i} \\approx \\frac{1}{\\Delta z} \\left[T(z_i) - T(z_{i-1})\\right],\\\\\n",
    "     \\left.\\dfrac{\\partial^2 T}{\\partial^2 z}\\right|_{z=z_i} \\approx \\frac{1}{\\Delta z} \\left[\\left. \\dfrac{\\partial T}{\\partial z}\\right|_{z=z_i} - \\left. \\dfrac{\\partial T}{\\partial z}\\right|_{z=z_{i-1}}\\right],\\\\\n",
    "     \\approx \\frac{1}{(\\Delta z)^2}\\left[T(z_i) - 2T(z_{i-1}) + T(z_{i-2})\\right]\\\\\n",
    "   $$\n",
    "\n",
    "The pde of the catalyst dynamic is given by:\n",
    "$$\n",
    "\\dfrac{d s_i}{dt} = K_0 \\dfrac{\\partial^2 s_i}{\\partial^2 z} -K_1 \\dfrac{\\partial s_i}{\\partial z}  - K_2 r_s(s_i,T_i) c_i,\\\\\n",
    "\\dfrac{d a_i}{dt} = K_3 \\dfrac{\\partial^2 a_i}{\\partial^2 z} -K_1 \\dfrac{\\partial a_i}{\\partial z} - K_2 r_a(a_i,T_i,c_i) c_i,\\\\\n",
    "\\dfrac{d T_i}{dt} = K_4 \\dfrac{\\partial^2 T_i}{\\partial^2 z} -K_5 \\dfrac{\\partial T_i}{\\partial z} + K_6 r_a(a_i,T_i,c_i) c_i,\\\\\n",
    "\\dfrac{d c_i}{dt} = K_7 r_s(s_i,T_i) c_i,\n",
    "$$\n",
    "   \n",
    "\n",
    "\n",
    "Let the reactor is partitioned into $N$ layers, where for each, the temperature corresponds to that layer is measured. The state each layer is given by (all is normalized):\n",
    "1. $s_i$ Sulfur concentration.\n",
    "2. $a_i$ Aromatic concentration.\n",
    "3. $T_i$ Temperature.\n",
    "4. $c_i$ Catalyst activity.\n",
    "\n",
    "where here $i = 1, \\cdots, N$.\n",
    "\n",
    "The inputs to the reactor are given by\n",
    "1. $s_0$ Sulfur concentration at inlet.\n",
    "2. $a_0$ Aromatic concentration at inlet.\n",
    "3. $T_0$ Temperature inlet.\n",
    "\n",
    "For each $i = 1, \\cdots, N$ the dyanmics are expressed as follows:\n",
    "$$\n",
    "\\dfrac{d s_i}{dt} = K_0 \\dfrac{1}{(\\Delta z)^2} \\left[s_i(t) -2 s_{i-1}(t) + s_{i-2}(t)\\right] -K_1 \\dfrac{1}{\\Delta z} \\left[s_i(t) - s_{i-1}(t)\\right]  - K_2 r_s(s_i,T_i) c_i,\\\\\n",
    "\\dfrac{d a_i}{dt} = K_3 \\dfrac{1}{(\\Delta z)^2} \\left[a_i(t) -2 a_{i-1}(t) + a_{i-2}(t)\\right] -K_1 \\dfrac{1}{\\Delta z} \\left[a_i(t) - a_{i-1}(t)\\right] - K_2 r_a(a_i,T_i,c_i) c_i,\\\\\n",
    "\\dfrac{d T_i}{dt} = K_4 \\dfrac{1}{(\\Delta z)^2} \\left[T_i(t) -2 T_{i-1}(t) + T_{i-2}(t)\\right] -K_5 \\dfrac{1}{\\Delta z} \\left[T_i(t) - T_{i-1}(t)\\right] + K_6 r_a(a_i,T_i,c_i) c_i,\\\\\n",
    "\\dfrac{d c_i}{dt} = K_7 r_s(s_i,T_i) c_i,\n",
    "$$\n",
    "where \n",
    "$$\n",
    "r_a = -d_1 \\exp\\left(-d_2/T_i\\right) a_i c_i,\\\\\n",
    "r_s = -d_3 \\exp\\left(-d_4/T_i\\right)s_i %\\dfrac{d_3 \\exp\\left((d_4-d_5)/T_i\\right)s_i}{1+d_6 \\exp(d_4/T_i)s_i}.\n",
    "$$\n",
    "\n",
    "In these dynamical equations, the constants $K_j$ and $d_j$ belongs to $\\mathbb{R}^+$, to be estimated from the data via nonlinear optimization algorithm. We do not include noises model in the dynamics nor in the measurement model. We would handle this via stochastic smoothing or Gaussian processes system identification. These dynamics will be the starting point. It is assumed that initially $c_i = 1, \\forall i$.\n",
    "\n",
    "We then discretize the dynamics above in time, resulting in the following dynamics:\n",
    "$$\n",
    "s_i(t+1) = s_i(t)+K_0 \\dfrac{1}{(\\Delta z)^2} \\left[s_i(t) -2 s_{i-1}(t) + s_{i-2}(t)\\right] -K_1 \\dfrac{1}{\\Delta z} \\left[s_i(t) - s_{i-1}(t)\\right]  - K_2 r_s(s_i,T_i) c_i,\\\\\n",
    "a_i(t+1) = a_i(t)+K_3 \\dfrac{1}{(\\Delta z)^2} \\left[a_i(t) -2 a_{i-1}(t) + a_{i-2}(t)\\right] -K_1 \\dfrac{1}{\\Delta z} \\left[a_i(t) - a_{i-1}(t)\\right] - K_2 r_a(a_i,T_i,c_i) c_i,\\\\\n",
    "T_i(t+1) = T_i(t)+K_4 \\dfrac{1}{(\\Delta z)^2} \\left[T_i(t) -2 T_{i-1}(t) + T_{i-2}(t)\\right] -K_5 \\dfrac{1}{\\Delta z} \\left[T_i(t) - T_{i-1}(t)\\right] + K_6 r_a(a_i,T_i,c_i) c_i,\\\\\n",
    "c_i(t+1) = c_i(t)+ K_7 r_s(s_i,T_i) c_i,\n",
    "$$\n",
    "\n",
    "We could start $u(t,z_i) = K_4 r_a(s_i(t),T_i(t)) c_i(t)$.\n",
    "\n",
    "$$\n",
    "c_i = c_i(0) \\exp(\\int r_s(t) dt)\\\\\n",
    "u_i = -r_a(a_i,T_i,c_i) c_i(0) \\exp(\\int r_s(t) dt)\\\\\n",
    "    = d_1 \\exp\\left(-d_2/T_i\\right) a_i c_i(0)^2 \\exp(2 \\int r_s(t) dt)\\\\\n",
    "    = d_1 \\exp\\left(-d_2/T_i\\right) \\exp(\\alpha_i(t,z_i)) c_i(0)^2 \\exp(2 \\int r_s(t,z_i) dt)\\\\\n",
    "\\log(u_i) = \\log(d_1) -d_2/T_i + \\alpha_i(t,z_i) + 2\\log(c_i(0)) + 2 \\int r_s(t,z_i) dt\\\\\n",
    "$$"
   ]
  },
  {
   "cell_type": "markdown",
   "metadata": {},
   "source": [
    "### Load necessary libraries"
   ]
  },
  {
   "cell_type": "code",
   "execution_count": 16,
   "metadata": {},
   "outputs": [],
   "source": [
    "import numpy as np\n",
    "import matplotlib.pyplot as plt\n",
    "import torch\n",
    "import sys\n",
    "import os\n",
    "import pandas as pd\n",
    "import datetime\n",
    "import torch.nn as nn\n",
    "Dtype = torch.float\n",
    "\n",
    "if torch.cuda.is_available():\n",
    "    device = torch.device(\"cuda\")\n",
    "else:\n",
    "    device = torch.device(\"cpu\")"
   ]
  },
  {
   "cell_type": "markdown",
   "metadata": {},
   "source": [
    "Define discrete dynamics that will be used for system identification."
   ]
  },
  {
   "cell_type": "code",
   "execution_count": 14,
   "metadata": {},
   "outputs": [
    {
     "data": {
      "text/plain": [
       "device(type='cuda')"
      ]
     },
     "execution_count": 14,
     "metadata": {},
     "output_type": "execute_result"
    }
   ],
   "source": [
    "device"
   ]
  },
  {
   "cell_type": "code",
   "execution_count": 2,
   "metadata": {},
   "outputs": [],
   "source": [
    "'''\n",
    "Discrete catalyst dynamics, with assumption that the number of layer is 7\n",
    "'''\n",
    "# @torch.jit.script\n",
    "def catalyst_dynamics(x,u,LayerNum,Delta_z,K,d):\n",
    "#     #\n",
    "#     LayerNum = 7\n",
    "#     Delta_z = torch.tensor([1.,1.,1.,1.,1.,1.,1.],dtype=Dtype)\n",
    "    \n",
    "#     #parameters of dynamics\n",
    "#     K = params[:5]\n",
    "#     d = params[5:]\n",
    "    \n",
    "    #unflod input\n",
    "#     s_in,a_in,T_in = u\n",
    "    #input are the log\n",
    "    d = torch.exp(d)\n",
    "    K = torch.exp(K)\n",
    "    \n",
    "    s_in = u[0]\n",
    "    a_in = u[1]\n",
    "    T_in = u[2]\n",
    "\n",
    "    #get the current states\n",
    "    s = x[:LayerNum]\n",
    "    a = x[LayerNum:2*LayerNum]\n",
    "    T = x[2*LayerNum:3*LayerNum]\n",
    "    c = x[3*LayerNum:]\n",
    "    \n",
    "    #create new state\n",
    "    x_new = torch.zeros_like(x)\n",
    "    s_new = x_new[:LayerNum] #This is only view\n",
    "    a_new = x_new[LayerNum:2*LayerNum]\n",
    "    T_new = x_new[2*LayerNum:3*LayerNum]\n",
    "    c_new = x_new[3*LayerNum:]\n",
    "    \n",
    "    for i in range(LayerNum):\n",
    "        if i == 0:\n",
    "            s_i_min_1 = s_in\n",
    "            a_i_min_1 = a_in\n",
    "            T_i_min_1 = T_in\n",
    "            \n",
    "            s_i_min_2 = s_in\n",
    "            a_i_min_2 = a_in\n",
    "            T_i_min_2 = T_in\n",
    "        else:\n",
    "            s_prev = s[i-1]\n",
    "            a_prev = a[i-1]\n",
    "            T_prev = T[i-1]\n",
    "            if i==1:\n",
    "                s_i_min_2 = s_in\n",
    "                a_i_min_2 = a_in\n",
    "                T_i_min_2 = T_in\n",
    "            else:\n",
    "                s_i_min_2 = s[i-2]\n",
    "                a_i_min_2 = a[i-2]\n",
    "                T_i_min_2 = T[i-2]\n",
    "        \n",
    "        Delta_s = (s[i] - s_i_min_1)/Delta_z[i]\n",
    "        Delta_a = (a[i] - a_i_min_1)/Delta_z[i]\n",
    "        Delta_T = (T[i] - T_i_min_1)/Delta_z[i]\n",
    "        \n",
    "        \n",
    "        Delta2_s = (s[i] - 2*s_i_min_1 + s_i_min_2)/(Delta_z[i]*Delta_z[i])\n",
    "        Delta2_a = (a[i] - 2*a_i_min_1 + a_i_min_2)/(Delta_z[i]*Delta_z[i])\n",
    "        Delta2_T = (T[i] - 2*T_i_min_1 + T_i_min_2)/(Delta_z[i]*Delta_z[i])\n",
    "        \n",
    "        \n",
    "        rA_i = rA(s[i],T[i],d)\n",
    "        rS_i = rS(a[i],T[i],c[i],d)\n",
    "        \n",
    "        s_new[i] = s[i]+K[0]*Delta2_s - K[1]*Delta2_s - K[2]*rA_i*c[i]\n",
    "        a_new[i] = a[i]+K[3]*Delta2_a - K[1]*Delta2_a - K[2]*rS_i*c[i]\n",
    "        T_new[i] = T[i]+K[4]*Delta2_T - K[5]*Delta2_T + K[6]*rA_i*c[i]\n",
    "        c_new[i] = c[i]+K[7]*rS_i\n",
    "        \n",
    "        \n",
    "    return x_new\n",
    "\n",
    "# @torch.jit.script\n",
    "def temperature_output(x,LayerNum=7):\n",
    "    return x[2*LayerNum:3*LayerNum]\n",
    "\n",
    "'''\n",
    "Aromatic reaction rate\n",
    "'''\n",
    "# @torch.jit.script\n",
    "def rA(s,T,d):\n",
    "\n",
    "    res =  -d[2]*torch.exp(-d[3]/T)*s;\n",
    "#     res = res/(1+(d[4]*exp(d[3]/T)*s));\n",
    "    return res\n",
    "\n",
    "'''\n",
    "Sulphur reaction rate\n",
    "'''\n",
    "# @torch.jit.script\n",
    "def rS(a,T,c,d):\n",
    "    res =  -d[0]*torch.exp(-d[1]/T)*a*c;\n",
    "    return res"
   ]
  },
  {
   "cell_type": "markdown",
   "metadata": {},
   "source": [
    "Define costumized `Torch.nn` so that the parameter could be handled with `Torch.optim` algorithms"
   ]
  },
  {
   "cell_type": "code",
   "execution_count": 39,
   "metadata": {},
   "outputs": [],
   "source": [
    "#use Torch nn structure for easy manipulation of gradient and update\n",
    "class GreyIdentification(nn.Module):\n",
    "    def __init__(self,device,layerNum,initial_state,K_init,d_init,input_scale_init):\n",
    "        super(GreyIdentification,self).__init__()\n",
    "        self.layerNum = layerNum\n",
    "        self.Delta_z = torch.tensor([1.,1.,1.,1.,1.,1.,1.],dtype=Dtype,device=device)\n",
    "        self.input_scale = nn.Parameter(data=input_scale_init,requires_grad=True)\n",
    "        self.K = nn.Parameter(data=K_init,requires_grad=True)\n",
    "        self.d = nn.Parameter(data=d_init,requires_grad=True)\n",
    "        self.initial_state = initial_state ##this can be estimated as well in the future\n",
    "#         self.state = initial_state.clone()#state at current time\n",
    "        \n",
    "    \n",
    "    '''\n",
    "    forward, given a history of input u, the network will predict the history of output y\n",
    "    '''\n",
    "    def forward(self,u_hist):\n",
    "        #first we need to sclae the input\n",
    "        u_hist = torch.cat((torch.exp(self.input_scale),torch.tensor([1.],device=device)))*u_hist\n",
    "        state = self.initial_state.clone()\n",
    "        output_hist = torch.empty(u_hist.shape[0],self.layerNum,dtype=Dtype,device=device)\n",
    "        output_hist[0,:] = temperature_output(state,self.layerNum)\n",
    "        \n",
    "        \n",
    "        for i in range(u_hist.shape[0]-1):\n",
    "            state = catalyst_dynamics(state,u_hist[i,:],self.layerNum,self.Delta_z,self.K,self.d)\n",
    "            output_hist[i+1,:] = temperature_output(state,self.layerNum)\n",
    "            \n",
    "        return output_hist"
   ]
  },
  {
   "cell_type": "markdown",
   "metadata": {},
   "source": [
    "### Load data"
   ]
  },
  {
   "cell_type": "code",
   "execution_count": 40,
   "metadata": {},
   "outputs": [],
   "source": [
    "df_raw = pd.read_hdf('../Data/timeseries_complete.hdf5',key='KAAPO_hour_15_16_17_18_19_complete')\n",
    "df_raw = df_raw[(df_raw.index < \"2017-03-26\") & (df_raw.index > \"2015-07-14\")]\n",
    "df_lab = pd.read_hdf('../Data/Laboratory.hdf5',key='Laboratory').interpolate()\n",
    "df_lab = df_lab[(df_lab.index < \"2017-03-26\") & (df_lab.index > \"2015-07-14\")]"
   ]
  },
  {
   "cell_type": "code",
   "execution_count": 41,
   "metadata": {},
   "outputs": [],
   "source": [
    "temperature_columns = np.array(\n",
    "    [['TI8585','TI8553','TI8554','TI8555','TI8556','TI8557','TI8558','TI8559', 'TIZ8578A'],\n",
    "     ['TI8585','TI8560','TI8561','TI8562','TI8563','TI8564','TI8565','TI8566', 'TIZ8578A'],\n",
    "     ['TI8585','TI8567','TI8568','TI8569','TI8570','TI8571','TI8572','TI8573', 'TIZ8578A']],dtype=object)\n",
    "tc_heights =np.array([[7600,6550,5500,4450,3400,2350,1300],\n",
    "             [7250,6250,5150,4100,3050,2000,950],\n",
    "             [6900,5850,4800,3750,2700,1650,600]])"
   ]
  },
  {
   "cell_type": "markdown",
   "metadata": {},
   "source": [
    "### Select interval of interest and resample dataframe to daily data"
   ]
  },
  {
   "cell_type": "code",
   "execution_count": 63,
   "metadata": {},
   "outputs": [],
   "source": [
    "date_mask = np.logical_and('2015-07-15'<df_raw.index,df_raw.index < '2017-03-15')\n",
    "masked_df = df_raw[date_mask].resample('W').median() #resample per one week"
   ]
  },
  {
   "cell_type": "markdown",
   "metadata": {},
   "source": [
    "### Select the input and output"
   ]
  },
  {
   "cell_type": "code",
   "execution_count": 64,
   "metadata": {},
   "outputs": [],
   "source": [
    "u_hist = torch.tensor(masked_df[['AI8510A','Aromatic_percentage','TI8585']].values,device=device).float()\n",
    "y_hist = torch.tensor(masked_df[temperature_columns[0,1:-1]].values,device=device).float()"
   ]
  },
  {
   "cell_type": "markdown",
   "metadata": {},
   "source": [
    "### Initialize the model"
   ]
  },
  {
   "cell_type": "code",
   "execution_count": 65,
   "metadata": {},
   "outputs": [],
   "source": [
    "#number of layer\n",
    "layer_num = 7\n",
    "\n",
    "#set initial state\n",
    "s_init = u_hist[0,0]*torch.exp(torch.tensor([0.,-0.05,-0.06,-0.1,-0.2,-0.3,-0.4],device=device))\n",
    "a_init = u_hist[0,1]*torch.exp(torch.tensor([0.,-0.05,-0.06,-0.1,-0.2,-0.3,-0.4],device=device))\n",
    "T_init = y_hist[0,:]\n",
    "c_init = torch.ones(layer_num,device=device)\n",
    "initial_state = torch.cat((s_init,a_init,T_init,c_init))\n",
    "\n",
    "#initialize the parameter\n",
    "K_init = torch.log(torch.tensor([0.1090, 0.9871, 0.7476, 0.1604, 0.3059, 0.5792, 0.6542, 0.4632],dtype=Dtype,device=device))\n",
    "# K_init = torch.tensor([0.1090, 0.9871, 0.7476, 0.1604, 0.3059, 0.5792, 0.6542, 0.4632],dtype=Dtype)\n",
    "# K_init = torch.exp(torch.randn(8))\n",
    "K_init[0] = 4.5e-5\n",
    "K_init[3] = 4.5e-5\n",
    "\n",
    "d_init = torch.log(torch.tensor([0.2073, 0.1953, 0.8495, 0.8825],dtype=Dtype,device=device))\n",
    "# d_init = torch.tensor([0.2073, 0.1953, 0.8495, 0.8825],dtype=Dtype)\n",
    "\n",
    "input_scale_init = torch.randn(2,device=device)\n",
    "\n",
    "greyIdentification = GreyIdentification(device,7,initial_state,K_init,d_init,input_scale_init)\n",
    "greyIdentification.input_scale.data = torch.tensor([0.4789, 1.4224],dtype=Dtype,device=device)\n",
    "#Define loss function\n",
    "loss_fn = torch.nn.MSELoss(reduction='sum')"
   ]
  },
  {
   "cell_type": "code",
   "execution_count": 66,
   "metadata": {},
   "outputs": [],
   "source": [
    "#use Adam at the moment for the optimizer\n",
    "learning_rate = 5e-6\n",
    "optimizer = torch.optim.Adam(greyIdentification.parameters(), lr=learning_rate)\n",
    "# optimizer = torch.optim.SGD(model.parameters(), lr=0.1, momentum=0.9)\n",
    "# scheduler = torch.optim.lr_scheduler.OneCycleLR(optimizer, max_lr=0.01, steps_per_epoch=len(data_loader), epochs=10)\n",
    "\n"
   ]
  },
  {
   "cell_type": "markdown",
   "metadata": {},
   "source": [
    "#### Check whether the dynamics with initial K_init and d_init can be runned through all timesteps without giving `nan` or `inf`"
   ]
  },
  {
   "cell_type": "code",
   "execution_count": 67,
   "metadata": {},
   "outputs": [
    {
     "data": {
      "text/plain": [
       "tensor(False)"
      ]
     },
     "execution_count": 67,
     "metadata": {},
     "output_type": "execute_result"
    }
   ],
   "source": [
    "state_hist = torch.empty(u_hist.shape[0],28)\n",
    "state = initial_state.clone()\n",
    "state_hist[0,:] = state\n",
    "for i in range(u_hist.shape[0]-1):\n",
    "    state = catalyst_dynamics(state,u_hist[i,:],greyIdentification.layerNum,greyIdentification.Delta_z,K_init,d_init)\n",
    "    state_hist[i+1,:] = state\n",
    "#     print(state[:layerNum])\n",
    "#     print(state[layerNum:2*layerNum])\n",
    "#     print(state[2*layer_num:3*layer_num])\n",
    "#     print(state[3*layer_num:])\n",
    "torch.any(torch.isnan(state_hist))"
   ]
  },
  {
   "cell_type": "code",
   "execution_count": 68,
   "metadata": {},
   "outputs": [
    {
     "data": {
      "text/plain": [
       "[<matplotlib.lines.Line2D at 0x2ae4b95eca50>,\n",
       " <matplotlib.lines.Line2D at 0x2ae4b95ecc50>,\n",
       " <matplotlib.lines.Line2D at 0x2ae4b95ece10>,\n",
       " <matplotlib.lines.Line2D at 0x2ae4b95ecfd0>,\n",
       " <matplotlib.lines.Line2D at 0x2ae4b95f91d0>,\n",
       " <matplotlib.lines.Line2D at 0x2ae4b95f9390>,\n",
       " <matplotlib.lines.Line2D at 0x2ae4b95f95d0>]"
      ]
     },
     "execution_count": 68,
     "metadata": {},
     "output_type": "execute_result"
    },
    {
     "data": {
      "image/png": "[encoded data removed]",
      "text/plain": [
       "<Figure size 432x288 with 1 Axes>"
      ]
     },
     "metadata": {
      "needs_background": "light"
     },
     "output_type": "display_data"
    }
   ],
   "source": [
    "plt.plot(state_hist[:,3*layer_num:])"
   ]
  },
  {
   "cell_type": "markdown",
   "metadata": {},
   "source": [
    "### Learn the parameter"
   ]
  },
  {
   "cell_type": "code",
   "execution_count": 49,
   "metadata": {},
   "outputs": [
    {
     "name": "stdout",
     "output_type": "stream",
     "text": [
      "9 12524378390528.0\n",
      "19 12191253135360.0\n",
      "29 12093398974464.0\n",
      "39 11935378571264.0\n",
      "49 11932220260352.0\n",
      "59 11926738305024.0\n",
      "69 11927900127232.0\n",
      "79 11928653004800.0\n",
      "89 11928900468736.0\n",
      "99 11928320606208.0\n",
      "109 11928216797184.0\n",
      "119 11928216797184.0\n",
      "129 11928216797184.0\n",
      "139 11928216797184.0\n",
      "149 11928216797184.0\n",
      "159 11928216797184.0\n",
      "169 11928216797184.0\n",
      "179 11928216797184.0\n",
      "189 11928216797184.0\n",
      "199 11928216797184.0\n",
      "209 11928216797184.0\n",
      "219 11928216797184.0\n",
      "229 11928216797184.0\n",
      "239 11928216797184.0\n",
      "249 11928216797184.0\n",
      "259 11928216797184.0\n",
      "269 11928216797184.0\n",
      "279 11928216797184.0\n",
      "289 11928216797184.0\n",
      "299 11928216797184.0\n",
      "309 11928216797184.0\n",
      "319 11928216797184.0\n",
      "329 11928216797184.0\n",
      "339 11928216797184.0\n",
      "349 11928216797184.0\n",
      "359 11928216797184.0\n",
      "369 11928216797184.0\n",
      "379 11928216797184.0\n",
      "389 11928216797184.0\n",
      "399 11928216797184.0\n",
      "409 11928216797184.0\n",
      "419 11928216797184.0\n",
      "429 11928216797184.0\n",
      "439 11928216797184.0\n",
      "449 11928216797184.0\n",
      "459 11928216797184.0\n",
      "469 11928216797184.0\n",
      "479 11928216797184.0\n",
      "489 11928216797184.0\n",
      "499 11928216797184.0\n",
      "509 11928216797184.0\n",
      "519 11928216797184.0\n",
      "529 11928216797184.0\n",
      "539 11928216797184.0\n",
      "549 11928216797184.0\n",
      "559 11928216797184.0\n",
      "569 11928216797184.0\n",
      "579 11928216797184.0\n",
      "589 11928216797184.0\n",
      "599 11928216797184.0\n",
      "609 11928216797184.0\n",
      "619 11928216797184.0\n",
      "629 11928216797184.0\n",
      "639 11928216797184.0\n",
      "649 11928216797184.0\n",
      "659 11928216797184.0\n",
      "669 11928216797184.0\n",
      "679 11928216797184.0\n",
      "689 11928216797184.0\n",
      "699 11928216797184.0\n",
      "709 11928216797184.0\n",
      "719 11928216797184.0\n",
      "729 11928216797184.0\n",
      "739 11928216797184.0\n",
      "749 11928216797184.0\n",
      "759 11928216797184.0\n",
      "769 11928216797184.0\n",
      "779 11928216797184.0\n",
      "789 11928216797184.0\n",
      "799 11928216797184.0\n",
      "809 11928216797184.0\n",
      "819 11928216797184.0\n",
      "829 11928216797184.0\n",
      "839 11928216797184.0\n",
      "849 11928216797184.0\n",
      "859 11928216797184.0\n",
      "869 11928216797184.0\n",
      "879 11928216797184.0\n",
      "889 11928216797184.0\n",
      "899 11928216797184.0\n",
      "909 11928216797184.0\n",
      "919 11928216797184.0\n"
     ]
    },
    {
     "ename": "KeyboardInterrupt",
     "evalue": "",
     "output_type": "error",
     "traceback": [
      "\u001b[0;31m---------------------------------------------------------------------------\u001b[0m",
      "\u001b[0;31mKeyboardInterrupt\u001b[0m                         Traceback (most recent call last)",
      "\u001b[0;32m<ipython-input-49-452921c7f33c>\u001b[0m in \u001b[0;36m<module>\u001b[0;34m\u001b[0m\n\u001b[1;32m     12\u001b[0m     \u001b[0;31m# Backward pass: compute gradient of the loss with respect to model\u001b[0m\u001b[0;34m\u001b[0m\u001b[0;34m\u001b[0m\u001b[0;34m\u001b[0m\u001b[0m\n\u001b[1;32m     13\u001b[0m     \u001b[0;31m# parameters\u001b[0m\u001b[0;34m\u001b[0m\u001b[0;34m\u001b[0m\u001b[0;34m\u001b[0m\u001b[0m\n\u001b[0;32m---> 14\u001b[0;31m     \u001b[0mloss\u001b[0m\u001b[0;34m.\u001b[0m\u001b[0mbackward\u001b[0m\u001b[0;34m(\u001b[0m\u001b[0;34m)\u001b[0m\u001b[0;31m#but why\u001b[0m\u001b[0;34m\u001b[0m\u001b[0;34m\u001b[0m\u001b[0m\n\u001b[0m\u001b[1;32m     15\u001b[0m \u001b[0;34m\u001b[0m\u001b[0m\n\u001b[1;32m     16\u001b[0m     \u001b[0;31m# Calling the step function on an Optimizer makes an update to its\u001b[0m\u001b[0;34m\u001b[0m\u001b[0;34m\u001b[0m\u001b[0;34m\u001b[0m\u001b[0m\n",
      "\u001b[0;32m~/.conda/envs/CUPYrc/lib/python3.7/site-packages/torch/tensor.py\u001b[0m in \u001b[0;36mbackward\u001b[0;34m(self, gradient, retain_graph, create_graph)\u001b[0m\n\u001b[1;32m    196\u001b[0m                 \u001b[0mproducts\u001b[0m\u001b[0;34m.\u001b[0m \u001b[0mDefaults\u001b[0m \u001b[0mto\u001b[0m\u001b[0;31m \u001b[0m\u001b[0;31m`\u001b[0m\u001b[0;31m`\u001b[0m\u001b[0;32mFalse\u001b[0m\u001b[0;31m`\u001b[0m\u001b[0;31m`\u001b[0m\u001b[0;34m.\u001b[0m\u001b[0;34m\u001b[0m\u001b[0;34m\u001b[0m\u001b[0m\n\u001b[1;32m    197\u001b[0m         \"\"\"\n\u001b[0;32m--> 198\u001b[0;31m         \u001b[0mtorch\u001b[0m\u001b[0;34m.\u001b[0m\u001b[0mautograd\u001b[0m\u001b[0;34m.\u001b[0m\u001b[0mbackward\u001b[0m\u001b[0;34m(\u001b[0m\u001b[0mself\u001b[0m\u001b[0;34m,\u001b[0m \u001b[0mgradient\u001b[0m\u001b[0;34m,\u001b[0m \u001b[0mretain_graph\u001b[0m\u001b[0;34m,\u001b[0m \u001b[0mcreate_graph\u001b[0m\u001b[0;34m)\u001b[0m\u001b[0;34m\u001b[0m\u001b[0;34m\u001b[0m\u001b[0m\n\u001b[0m\u001b[1;32m    199\u001b[0m \u001b[0;34m\u001b[0m\u001b[0m\n\u001b[1;32m    200\u001b[0m     \u001b[0;32mdef\u001b[0m \u001b[0mregister_hook\u001b[0m\u001b[0;34m(\u001b[0m\u001b[0mself\u001b[0m\u001b[0;34m,\u001b[0m \u001b[0mhook\u001b[0m\u001b[0;34m)\u001b[0m\u001b[0;34m:\u001b[0m\u001b[0;34m\u001b[0m\u001b[0;34m\u001b[0m\u001b[0m\n",
      "\u001b[0;32m~/.conda/envs/CUPYrc/lib/python3.7/site-packages/torch/autograd/__init__.py\u001b[0m in \u001b[0;36mbackward\u001b[0;34m(tensors, grad_tensors, retain_graph, create_graph, grad_variables)\u001b[0m\n\u001b[1;32m     98\u001b[0m     Variable._execution_engine.run_backward(\n\u001b[1;32m     99\u001b[0m         \u001b[0mtensors\u001b[0m\u001b[0;34m,\u001b[0m \u001b[0mgrad_tensors\u001b[0m\u001b[0;34m,\u001b[0m \u001b[0mretain_graph\u001b[0m\u001b[0;34m,\u001b[0m \u001b[0mcreate_graph\u001b[0m\u001b[0;34m,\u001b[0m\u001b[0;34m\u001b[0m\u001b[0;34m\u001b[0m\u001b[0m\n\u001b[0;32m--> 100\u001b[0;31m         allow_unreachable=True)  # allow_unreachable flag\n\u001b[0m\u001b[1;32m    101\u001b[0m \u001b[0;34m\u001b[0m\u001b[0m\n\u001b[1;32m    102\u001b[0m \u001b[0;34m\u001b[0m\u001b[0m\n",
      "\u001b[0;31mKeyboardInterrupt\u001b[0m: "
     ]
    }
   ],
   "source": [
    "#Set how many epoch?\n",
    "epochs = 1000\n",
    "for ep in range(epochs):\n",
    "    y_hist_pred = greyIdentification(u_hist)\n",
    "    loss = loss_fn(y_hist,y_hist_pred)\n",
    "    if ep % 10 == 9:\n",
    "        print(ep, loss.item())\n",
    "\n",
    "    \n",
    "    optimizer.zero_grad()\n",
    "\n",
    "    # Backward pass: compute gradient of the loss with respect to model\n",
    "    # parameters\n",
    "    loss.backward()#but why\n",
    "\n",
    "    # Calling the step function on an Optimizer makes an update to its\n",
    "    # parameters\n",
    "    optimizer.step()"
   ]
  },
  {
   "cell_type": "code",
   "execution_count": 239,
   "metadata": {},
   "outputs": [
    {
     "data": {
      "text/plain": [
       "Parameter containing:\n",
       "tensor([0.1373, 1.6323], requires_grad=True)"
      ]
     },
     "execution_count": 239,
     "metadata": {},
     "output_type": "execute_result"
    }
   ],
   "source": [
    "greyIdentification.input_scale"
   ]
  },
  {
   "cell_type": "code",
   "execution_count": 240,
   "metadata": {},
   "outputs": [
    {
     "data": {
      "text/plain": [
       "[<matplotlib.lines.Line2D at 0x7f30b8ae7910>]"
      ]
     },
     "execution_count": 240,
     "metadata": {},
     "output_type": "execute_result"
    },
    {
     "data": {
      "image/png": "[encoded data removed]",
      "text/plain": [
       "<Figure size 432x288 with 1 Axes>"
      ]
     },
     "metadata": {
      "needs_background": "light"
     },
     "output_type": "display_data"
    }
   ],
   "source": [
    "plt.plot((y_hist_pred[:,1]-y_hist_pred[:,0]).detach().numpy())\n",
    "# plt.plot((y_hist[:,1]-y_hist[:,0]).numpy())\n",
    "# plt.plot(y_hist[:,0].detach().numpy())"
   ]
  },
  {
   "cell_type": "code",
   "execution_count": 241,
   "metadata": {},
   "outputs": [
    {
     "data": {
      "text/plain": [
       "Parameter containing:\n",
       "tensor([ 0.3673,  1.0191,  0.4786, -0.4702,  0.3159,  0.5692, -0.0822,  0.6536],\n",
       "       requires_grad=True)"
      ]
     },
     "execution_count": 241,
     "metadata": {},
     "output_type": "execute_result"
    }
   ],
   "source": [
    "greyIdentification.K"
   ]
  },
  {
   "cell_type": "code",
   "execution_count": 242,
   "metadata": {},
   "outputs": [
    {
     "data": {
      "text/plain": [
       "Parameter containing:\n",
       "tensor([ 0.3831, -0.0154,  0.3782,  1.2481], requires_grad=True)"
      ]
     },
     "execution_count": 242,
     "metadata": {},
     "output_type": "execute_result"
    }
   ],
   "source": [
    "greyIdentification.d"
   ]
  },
  {
   "cell_type": "markdown",
   "metadata": {},
   "source": [
    "#### Save Model"
   ]
  },
  {
   "cell_type": "code",
   "execution_count": 131,
   "metadata": {},
   "outputs": [],
   "source": [
    "def save_model(model, filename):\n",
    "    try:\n",
    "        do_save = input('Do you want to save the model (type yes to confirm)? ').lower()\n",
    "        if do_save == 'yes':\n",
    "            torch.save(model.state_dict(), filename)\n",
    "            print('Model saved to %s.' % (filename))\n",
    "        else:\n",
    "            print('Model not saved.')\n",
    "    except:\n",
    "        raise Exception('The notebook should be run or validated with skip_training=True.')\n",
    "\n",
    "\n",
    "def load_model(model, filename, device):\n",
    "    model.load_state_dict(torch.load(filename, map_location=lambda storage, loc: storage))\n",
    "    print('Model loaded from %s.' % filename)\n",
    "    model.to(device)\n",
    "    model.eval()"
   ]
  },
  {
   "cell_type": "code",
   "execution_count": 132,
   "metadata": {},
   "outputs": [
    {
     "name": "stdin",
     "output_type": "stream",
     "text": [
      "Do you want to save the model (type yes to confirm)?  y\n"
     ]
    },
    {
     "name": "stdout",
     "output_type": "stream",
     "text": [
      "Model not saved.\n"
     ]
    }
   ],
   "source": [
    "skip_training=T\n",
    "if not skip_training:\n",
    "    save_model(greyIdentification, 'greyIdentification.pth')\n",
    "    \n",
    "else:\n",
    "    n_levels = len(selected_cols)\n",
    "    model = CustomRnn(n_levels, use_true_params=False)\n",
    "    load_model(greyIdentification, 'greyIdentification.pth', device)"
   ]
  },
  {
   "cell_type": "code",
   "execution_count": 213,
   "metadata": {},
   "outputs": [
    {
     "data": {
      "text/plain": [
       "tensor([204.5700, 204.6310, 199.2550, 207.5530, 207.3320, 206.8050, 207.5800])"
      ]
     },
     "execution_count": 213,
     "metadata": {},
     "output_type": "execute_result"
    }
   ],
   "source": []
  },
  {
   "cell_type": "code",
   "execution_count": null,
   "metadata": {},
   "outputs": [],
   "source": []
  }
 ],
 "metadata": {
  "kernelspec": {
   "display_name": "Python 3",
   "language": "python",
   "name": "python3"
  },
  "language_info": {
   "codemirror_mode": {
    "name": "ipython",
    "version": 3
   },
   "file_extension": ".py",
   "mimetype": "text/x-python",
   "name": "python",
   "nbconvert_exporter": "python",
   "pygments_lexer": "ipython3",
   "version": "3.7.4"
  }
 },
 "nbformat": 4,
 "nbformat_minor": 4
}
